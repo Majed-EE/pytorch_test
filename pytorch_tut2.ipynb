{
 "cells": [
  {
   "cell_type": "markdown",
   "id": "077a101c",
   "metadata": {},
   "source": [
    "# pytorch workflow"
   ]
  },
  {
   "cell_type": "code",
   "execution_count": 1,
   "id": "bbfab387",
   "metadata": {},
   "outputs": [],
   "source": [
    "import torch\n",
    "from torch import nn\n",
    "from matplotlib import pyplot as plt"
   ]
  },
  {
   "cell_type": "code",
   "execution_count": 2,
   "id": "0b7b6fc1",
   "metadata": {},
   "outputs": [],
   "source": [
    "# data-> numerical encoding-> learns representation (pattern features weights) -> output"
   ]
  },
  {
   "cell_type": "markdown",
   "id": "523d9e77",
   "metadata": {},
   "source": [
    "## linear regression"
   ]
  },
  {
   "cell_type": "code",
   "execution_count": 3,
   "id": "73367009",
   "metadata": {},
   "outputs": [],
   "source": [
    "# create known parameters\n",
    "weight=0.7\n",
    "bias=0.3\n",
    "\n",
    "# create dataset\n",
    "start=0\n",
    "end=1\n",
    "step=0.02\n",
    "X=torch.arange(start,end,step).unsqueeze(dim=1)\n",
    "y=weight*X +bias\n",
    "\n",
    "# X,y"
   ]
  },
  {
   "cell_type": "code",
   "execution_count": 4,
   "id": "8056d6c3",
   "metadata": {},
   "outputs": [
    {
     "data": {
      "text/plain": [
       "(tensor([[0.0000],\n",
       "         [0.0200],\n",
       "         [0.0400],\n",
       "         [0.0600],\n",
       "         [0.0800],\n",
       "         [0.1000],\n",
       "         [0.1200],\n",
       "         [0.1400],\n",
       "         [0.1600],\n",
       "         [0.1800],\n",
       "         [0.2000],\n",
       "         [0.2200],\n",
       "         [0.2400],\n",
       "         [0.2600],\n",
       "         [0.2800],\n",
       "         [0.3000],\n",
       "         [0.3200],\n",
       "         [0.3400],\n",
       "         [0.3600],\n",
       "         [0.3800],\n",
       "         [0.4000],\n",
       "         [0.4200],\n",
       "         [0.4400],\n",
       "         [0.4600],\n",
       "         [0.4800],\n",
       "         [0.5000],\n",
       "         [0.5200],\n",
       "         [0.5400],\n",
       "         [0.5600],\n",
       "         [0.5800],\n",
       "         [0.6000],\n",
       "         [0.6200],\n",
       "         [0.6400],\n",
       "         [0.6600],\n",
       "         [0.6800],\n",
       "         [0.7000],\n",
       "         [0.7200],\n",
       "         [0.7400],\n",
       "         [0.7600],\n",
       "         [0.7800],\n",
       "         [0.8000],\n",
       "         [0.8200],\n",
       "         [0.8400],\n",
       "         [0.8600],\n",
       "         [0.8800],\n",
       "         [0.9000],\n",
       "         [0.9200],\n",
       "         [0.9400],\n",
       "         [0.9600],\n",
       "         [0.9800]]),\n",
       " tensor([[0.3000],\n",
       "         [0.3140],\n",
       "         [0.3280],\n",
       "         [0.3420],\n",
       "         [0.3560],\n",
       "         [0.3700],\n",
       "         [0.3840],\n",
       "         [0.3980],\n",
       "         [0.4120],\n",
       "         [0.4260],\n",
       "         [0.4400],\n",
       "         [0.4540],\n",
       "         [0.4680],\n",
       "         [0.4820],\n",
       "         [0.4960],\n",
       "         [0.5100],\n",
       "         [0.5240],\n",
       "         [0.5380],\n",
       "         [0.5520],\n",
       "         [0.5660],\n",
       "         [0.5800],\n",
       "         [0.5940],\n",
       "         [0.6080],\n",
       "         [0.6220],\n",
       "         [0.6360],\n",
       "         [0.6500],\n",
       "         [0.6640],\n",
       "         [0.6780],\n",
       "         [0.6920],\n",
       "         [0.7060],\n",
       "         [0.7200],\n",
       "         [0.7340],\n",
       "         [0.7480],\n",
       "         [0.7620],\n",
       "         [0.7760],\n",
       "         [0.7900],\n",
       "         [0.8040],\n",
       "         [0.8180],\n",
       "         [0.8320],\n",
       "         [0.8460],\n",
       "         [0.8600],\n",
       "         [0.8740],\n",
       "         [0.8880],\n",
       "         [0.9020],\n",
       "         [0.9160],\n",
       "         [0.9300],\n",
       "         [0.9440],\n",
       "         [0.9580],\n",
       "         [0.9720],\n",
       "         [0.9860]]))"
      ]
     },
     "execution_count": 4,
     "metadata": {},
     "output_type": "execute_result"
    }
   ],
   "source": [
    "X,y"
   ]
  },
  {
   "cell_type": "code",
   "execution_count": 5,
   "id": "a3c56bcb",
   "metadata": {},
   "outputs": [],
   "source": [
    "tensor = torch.tensor([1, 2, 3, 4, 5])\n",
    "tensor2= torch.arange(1,6,1).unsqueeze(dim=1)"
   ]
  },
  {
   "cell_type": "code",
   "execution_count": 6,
   "id": "37286d83",
   "metadata": {},
   "outputs": [
    {
     "name": "stdout",
     "output_type": "stream",
     "text": [
      "torch.Size([5]) torch.Size([5, 1])\n",
      "torch.Size([5]) torch.Size([5, 1])\n",
      "tensor([1, 2, 3, 4, 5])\n",
      "tensor([[1],\n",
      "        [2],\n",
      "        [3],\n",
      "        [4],\n",
      "        [5]])\n",
      "tensor([[10],\n",
      "        [20],\n",
      "        [30],\n",
      "        [40],\n",
      "        [50]])\n"
     ]
    }
   ],
   "source": [
    "print(tensor.shape,tensor2.shape)\n",
    "print(tensor.size(),tensor2.size())\n",
    "print(tensor)\n",
    "print(tensor2)\n",
    "print(tensor2*10)"
   ]
  },
  {
   "cell_type": "code",
   "execution_count": 7,
   "id": "7dd4d212",
   "metadata": {},
   "outputs": [
    {
     "data": {
      "text/plain": [
       "(40, 40, 10, 10)"
      ]
     },
     "execution_count": 7,
     "metadata": {},
     "output_type": "execute_result"
    }
   ],
   "source": [
    "# Create train/test split\n",
    "train_split = int(0.8 * len(X)) # 80% of data used for training set, 20% for testing \n",
    "X_train, y_train = X[:train_split], y[:train_split]\n",
    "X_test, y_test = X[train_split:], y[train_split:]\n",
    "\n",
    "len(X_train), len(y_train), len(X_test), len(y_test)# create train/test split"
   ]
  },
  {
   "cell_type": "code",
   "execution_count": 8,
   "id": "46b2acd8",
   "metadata": {},
   "outputs": [],
   "source": [
    "def plot_predictions(train_data=X_train, \n",
    "                     train_labels=y_train, \n",
    "                     test_data=X_test, \n",
    "                     test_labels=y_test, \n",
    "                     predictions=None):\n",
    "  \"\"\"\n",
    "  Plots training data, test data and compares predictions.\n",
    "  \"\"\"\n",
    "  plt.figure(figsize=(10, 7))\n",
    "\n",
    "  # Plot training data in blue\n",
    "  plt.scatter(train_data, train_labels, c=\"b\", s=4, label=\"Training data\")\n",
    "  \n",
    "  # Plot test data in green\n",
    "  plt.scatter(test_data, test_labels, c=\"g\", s=4, label=\"Testing data\")\n",
    "\n",
    "  if predictions is not None:\n",
    "    # Plot the predictions in red (predictions were made on the test data)\n",
    "    plt.scatter(test_data, predictions, c=\"r\", s=4, label=\"Predictions\")\n",
    "\n",
    "  # Show the legend\n",
    "  plt.legend(prop={\"size\": 14});\n"
   ]
  },
  {
   "cell_type": "code",
   "execution_count": 9,
   "id": "c2993bcd",
   "metadata": {},
   "outputs": [
    {
     "data": {
      "image/png": "[encoded data removed]",
      "text/plain": [
       "<Figure size 1000x700 with 1 Axes>"
      ]
     },
     "metadata": {},
     "output_type": "display_data"
    }
   ],
   "source": [
    "plot_predictions();"
   ]
  },
  {
   "cell_type": "markdown",
   "id": "6babb0be",
   "metadata": {},
   "source": [
    "### First pytorch model"
   ]
  },
  {
   "cell_type": "code",
   "execution_count": 10,
   "id": "5d5001f0",
   "metadata": {},
   "outputs": [],
   "source": [
    "class LinearRegressionModel(nn.Module):\n",
    "    def __init__(self):\n",
    "        super().__init__()\n",
    "        self.weights=nn.Parameter(torch.randn(1,requires_grad=True,dtype=torch.float)) \n",
    "        # Stores gradients, takes longer to learn. \n",
    "        self.bias=nn.Parameter(torch.rand(1,requires_grad=True, dtype=torch.float))\n",
    "        # bias\n",
    "        \n",
    "        \n",
    "    def forward(self,x:torch.Tensor)->torch.Tensor: # <--\"x\" is the input\n",
    "        # x: torch.Tensor: This specifies that the method takes one parameter, x, \n",
    "        # which is expected to be a tensor from the PyTorch library (torch.Tensor).\n",
    "        # In this context, x represents the input to the neural network.\n",
    "\n",
    "        # -> torch.Tensor: This indicates the return type of the method. \n",
    "        # In this case, it means that the method will return a tensor (again, from the PyTorch library)\n",
    "        return self.weights*x +self.bias"
   ]
  },
  {
   "cell_type": "code",
   "execution_count": 11,
   "id": "32db8580",
   "metadata": {},
   "outputs": [],
   "source": [
    "## check inside of the model"
   ]
  },
  {
   "cell_type": "code",
   "execution_count": 12,
   "id": "656faa49",
   "metadata": {},
   "outputs": [],
   "source": [
    "# create random seed\n",
    "torch.manual_seed(42)\n",
    "\n",
    "# create ad instance of the model \n",
    "model_0=LinearRegressionModel()"
   ]
  },
  {
   "cell_type": "code",
   "execution_count": 13,
   "id": "fc9b6ecb",
   "metadata": {},
   "outputs": [
    {
     "data": {
      "text/plain": [
       "OrderedDict([('weights', tensor([0.3367])), ('bias', tensor([0.3904]))])"
      ]
     },
     "execution_count": 13,
     "metadata": {},
     "output_type": "execute_result"
    }
   ],
   "source": [
    "list(model_0.parameters())\n",
    "model_0.state_dict()"
   ]
  },
  {
   "cell_type": "code",
   "execution_count": 22,
   "id": "99dcc6ae",
   "metadata": {},
   "outputs": [
    {
     "data": {
      "image/png": "[encoded data removed]",
      "text/plain": [
       "<Figure size 1000x700 with 1 Axes>"
      ]
     },
     "metadata": {},
     "output_type": "display_data"
    }
   ],
   "source": [
    "#### making prediction using 'torch.inference_mode() does not keep track of gradient-> much faster'\n",
    "with torch.inference_mode():\n",
    "    y_preds=model_0(X_test)\n",
    "\n",
    "y_preds\n",
    "\n",
    "plot_predictions(predictions=y_preds)"
   ]
  },
  {
   "cell_type": "code",
   "execution_count": 21,
   "id": "0253e2d8",
   "metadata": {},
   "outputs": [
    {
     "data": {
      "image/png": "[encoded data removed]",
      "text/plain": [
       "<Figure size 1000x700 with 1 Axes>"
      ]
     },
     "metadata": {},
     "output_type": "display_data"
    }
   ],
   "source": [
    "with torch.inference_mode():\n",
    "    y_preds=model_0(X_test)\n",
    "\n",
    "y_preds\n",
    "\n",
    "plot_predictions(predictions=y_preds);"
   ]
  },
  {
   "cell_type": "code",
   "execution_count": 15,
   "id": "c9601d2c",
   "metadata": {},
   "outputs": [
    {
     "data": {
      "image/png": "[encoded data removed]",
      "text/plain": [
       "<Figure size 1000x700 with 1 Axes>"
      ]
     },
     "metadata": {},
     "output_type": "display_data"
    }
   ],
   "source": [
    "plot_predictions(predictions=y_preds);"
   ]
  },
  {
   "cell_type": "code",
   "execution_count": 16,
   "id": "6700593a",
   "metadata": {},
   "outputs": [],
   "source": [
    "loss_fn=nn.L1Loss()\n",
    "    \n",
    "    \n",
    "optimizer=torch.optim.SGD(params=model_0.parameters(),lr=0.01)# learning rate improtant hyperparameter    \n"
   ]
  },
  {
   "cell_type": "code",
   "execution_count": 17,
   "id": "e1602830",
   "metadata": {},
   "outputs": [
    {
     "name": "stdout",
     "output_type": "stream",
     "text": [
      "parameters values \n",
      " OrderedDict([('weights', tensor([0.3398])), ('bias', tensor([0.3939]))])\n",
      "Epoch: 0 | MAE Train Loss: 0.08169572055339813 | MAE Test Loss: 0.22662055492401123 \n",
      "parameters values \n",
      " OrderedDict([('weights', tensor([0.3672])), ('bias', tensor([0.4154]))])\n",
      "Epoch: 10 | MAE Train Loss: 0.06808149069547653 | MAE Test Loss: 0.1807345449924469 \n",
      "parameters values \n",
      " OrderedDict([('weights', tensor([0.3891])), ('bias', tensor([0.4204]))])\n",
      "Epoch: 20 | MAE Train Loss: 0.06258393079042435 | MAE Test Loss: 0.15627031028270721 \n",
      "parameters values \n",
      " OrderedDict([('weights', tensor([0.4081])), ('bias', tensor([0.4179]))])\n",
      "Epoch: 30 | MAE Train Loss: 0.05879194289445877 | MAE Test Loss: 0.1418602615594864 \n",
      "parameters values \n",
      " OrderedDict([('weights', tensor([0.4261])), ('bias', tensor([0.4129]))])\n",
      "Epoch: 40 | MAE Train Loss: 0.05530194193124771 | MAE Test Loss: 0.13084018230438232 \n",
      "parameters values \n",
      " OrderedDict([('weights', tensor([0.4439])), ('bias', tensor([0.4074]))])\n",
      "Epoch: 50 | MAE Train Loss: 0.051822252571582794 | MAE Test Loss: 0.12050700187683105 \n",
      "parameters values \n",
      " OrderedDict([('weights', tensor([0.4610])), ('bias', tensor([0.4004]))])\n",
      "Epoch: 60 | MAE Train Loss: 0.04838593676686287 | MAE Test Loss: 0.11223447322845459 \n",
      "parameters values \n",
      " OrderedDict([('weights', tensor([0.4780])), ('bias', tensor([0.3929]))])\n",
      "Epoch: 70 | MAE Train Loss: 0.044948760420084 | MAE Test Loss: 0.10464880615472794 \n",
      "parameters values \n",
      " OrderedDict([('weights', tensor([0.4951])), ('bias', tensor([0.3859]))])\n",
      "Epoch: 80 | MAE Train Loss: 0.04152031987905502 | MAE Test Loss: 0.09637625515460968 \n",
      "parameters values \n",
      " OrderedDict([('weights', tensor([0.5123])), ('bias', tensor([0.3789]))])\n",
      "Epoch: 90 | MAE Train Loss: 0.03808232396841049 | MAE Test Loss: 0.08810374140739441 \n",
      "parameters values \n",
      " OrderedDict([('weights', tensor([0.5293])), ('bias', tensor([0.3714]))])\n",
      "Epoch: 100 | MAE Train Loss: 0.034646838903427124 | MAE Test Loss: 0.08051808178424835 \n",
      "parameters values \n",
      " OrderedDict([('weights', tensor([0.5464])), ('bias', tensor([0.3644]))])\n",
      "Epoch: 110 | MAE Train Loss: 0.031217509880661964 | MAE Test Loss: 0.0722455382347107 \n",
      "parameters values \n",
      " OrderedDict([('weights', tensor([0.5636])), ('bias', tensor([0.3574]))])\n",
      "Epoch: 120 | MAE Train Loss: 0.027778705582022667 | MAE Test Loss: 0.06397300213575363 \n",
      "parameters values \n",
      " OrderedDict([('weights', tensor([0.5805])), ('bias', tensor([0.3499]))])\n",
      "Epoch: 130 | MAE Train Loss: 0.024344902485609055 | MAE Test Loss: 0.05638733506202698 \n",
      "parameters values \n",
      " OrderedDict([('weights', tensor([0.5977])), ('bias', tensor([0.3429]))])\n",
      "Epoch: 140 | MAE Train Loss: 0.020913895219564438 | MAE Test Loss: 0.04811479523777962 \n",
      "parameters values \n",
      " OrderedDict([('weights', tensor([0.6148])), ('bias', tensor([0.3359]))])\n",
      "Epoch: 150 | MAE Train Loss: 0.017475087195634842 | MAE Test Loss: 0.03984225541353226 \n",
      "parameters values \n",
      " OrderedDict([('weights', tensor([0.6318])), ('bias', tensor([0.3284]))])\n",
      "Epoch: 160 | MAE Train Loss: 0.014042967930436134 | MAE Test Loss: 0.0322565920650959 \n",
      "parameters values \n",
      " OrderedDict([('weights', tensor([0.6490])), ('bias', tensor([0.3214]))])\n",
      "Epoch: 170 | MAE Train Loss: 0.010610274039208889 | MAE Test Loss: 0.02398405596613884 \n",
      "parameters values \n",
      " OrderedDict([('weights', tensor([0.6661])), ('bias', tensor([0.3144]))])\n",
      "Epoch: 180 | MAE Train Loss: 0.007171472068876028 | MAE Test Loss: 0.015711510553956032 \n",
      "parameters values \n",
      " OrderedDict([('weights', tensor([0.6831])), ('bias', tensor([0.3069]))])\n",
      "Epoch: 190 | MAE Train Loss: 0.003741039428859949 | MAE Test Loss: 0.008125847205519676 \n"
     ]
    }
   ],
   "source": [
    "# An epoch is one loop through the data... (this is a hyperparameter because we have set it)\n",
    "\n",
    "epochs=200\n",
    "epoch_count=[]\n",
    "train_loss_values=[]\n",
    "test_loss_values=[]\n",
    "# 0 loop through the data\n",
    "for epoch in range(epochs):\n",
    "    \n",
    "    # set the model to trining mode\n",
    "    \n",
    "    model_0.train() # train mode in pytorch\n",
    "    \n",
    "    \n",
    "    # 1. Forward pass\n",
    "    y_pred=model_0(X_train)\n",
    "    # 2. Calculate the loss\n",
    "    loss=loss_fn(y_pred,y_train)\n",
    "\n",
    "    # 3. Optimizer zero grad\n",
    "    optimizer.zero_grad()\n",
    "    \n",
    "    # 4. Perform backpropagation on the loss with respect to the parameters of the model\n",
    "    \n",
    "    loss.backward()\n",
    "    \n",
    "    # 5. Step the optimizer (perform gradient descent)\n",
    "    \n",
    "    optimizer.step()\n",
    "    \n",
    "    \n",
    "    \n",
    "    model_0.eval() # turn off gradient tracking\n",
    "    \n",
    "    \n",
    "\n",
    "    with torch.inference_mode():\n",
    "        # 1. Forward pass on test data\n",
    "        test_pred = model_0(X_test)\n",
    "\n",
    "        # 2. Caculate loss on test data\n",
    "        test_loss = loss_fn(test_pred, y_test.type(torch.float)) # predictions come in torch.float datatype, so comparisons need to be done with tensors of the same type\n",
    "\n",
    "        # Print out what's happening\n",
    "        if epoch % 10 == 0:\n",
    "#             print(f\"loss {loss}\")\n",
    "            print(f\"parameters values \\n {model_0.state_dict()}\")\n",
    "            epoch_count.append(epoch)\n",
    "            train_loss_values.append(loss.detach().numpy())\n",
    "            test_loss_values.append(test_loss.detach().numpy())\n",
    "            print(f\"Epoch: {epoch} | MAE Train Loss: {loss} | MAE Test Loss: {test_loss} \")\n"
   ]
  },
  {
   "cell_type": "code",
   "execution_count": 18,
   "id": "cf62c2c6",
   "metadata": {},
   "outputs": [
    {
     "data": {
      "image/png": "[encoded data removed]",
      "text/plain": [
       "<Figure size 640x480 with 1 Axes>"
      ]
     },
     "metadata": {},
     "output_type": "display_data"
    }
   ],
   "source": [
    "#######m plot the loss curve\n",
    "\n",
    "\n",
    "\n",
    "# Plot the loss curves\n",
    "plt.plot(epoch_count, train_loss_values, label=\"Train loss\")\n",
    "plt.plot(epoch_count, test_loss_values, label=\"Test loss\")\n",
    "plt.title(\"Training and test loss curves\")\n",
    "plt.ylabel(\"Loss\")\n",
    "plt.xlabel(\"Epochs\")\n",
    "plt.legend();\n",
    "\n",
    "\n"
   ]
  },
  {
   "cell_type": "code",
   "execution_count": 19,
   "id": "a1ae33e2",
   "metadata": {},
   "outputs": [
    {
     "data": {
      "text/plain": [
       "[Parameter containing:\n",
       " tensor([0.3367], requires_grad=True),\n",
       " Parameter containing:\n",
       " tensor([0.3904], requires_grad=True)]"
      ]
     },
     "execution_count": 19,
     "metadata": {},
     "output_type": "execute_result"
    }
   ],
   "source": [
    "# Set manual seed since nn.Parameter are randomly initialzied\n",
    "torch.manual_seed(42)\n",
    "\n",
    "# Create an instance of the model (this is a subclass of nn.Module that contains nn.Parameter(s))\n",
    "model_0 = LinearRegressionModel()\n",
    "\n",
    "# Check the nn.Parameter(s) within the nn.Module subclass we created\n",
    "list(model_0.parameters())"
   ]
  },
  {
   "cell_type": "code",
   "execution_count": 20,
   "id": "9f2f216c",
   "metadata": {},
   "outputs": [
    {
     "data": {
      "text/plain": [
       "OrderedDict([('weights', tensor([0.3367])), ('bias', tensor([0.3904]))])"
      ]
     },
     "execution_count": 20,
     "metadata": {},
     "output_type": "execute_result"
    }
   ],
   "source": [
    "# List named parameters \n",
    "model_0.state_dict()"
   ]
  },
  {
   "cell_type": "code",
   "execution_count": 23,
   "id": "0b4c2b9a",
   "metadata": {},
   "outputs": [],
   "source": [
    "#### saving a model in pytorch"
   ]
  },
  {
   "cell_type": "code",
   "execution_count": 26,
   "id": "2539ec23",
   "metadata": {},
   "outputs": [
    {
     "name": "stdout",
     "output_type": "stream",
     "text": [
      "saving model to: models\\01_pytorch_workflow_model_0.pth\n"
     ]
    }
   ],
   "source": [
    "from pathlib import Path\n",
    "\n",
    "# 1 create models directory\n",
    "MODEL_PATH=Path(\"models\")\n",
    "MODEL_PATH.mkdir(parents=True, exist_ok=True)\n",
    "\n",
    "# 2 Create model save path\n",
    "MODEL_NAME= \"01_pytorch_workflow_model_0.pth\"\n",
    "MODEL_SAVE_PATH=MODEL_PATH / MODEL_NAME\n",
    "\n",
    "\n",
    "# Save the model state dict\n",
    "print(f\"saving model to: {MODEL_SAVE_PATH}\")\n",
    "torch.save(obj=model_0.state_dict(),\n",
    "          f=MODEL_SAVE_PATH)\n",
    "\n",
    "\n",
    "\n",
    "\n",
    "\n"
   ]
  },
  {
   "cell_type": "code",
   "execution_count": 27,
   "id": "6fed5ad4",
   "metadata": {},
   "outputs": [],
   "source": [
    "#### load the model"
   ]
  },
  {
   "cell_type": "code",
   "execution_count": 28,
   "id": "d04b7dfc",
   "metadata": {},
   "outputs": [],
   "source": [
    "### loading torch model"
   ]
  },
  {
   "cell_type": "code",
   "execution_count": 29,
   "id": "1b98887b",
   "metadata": {},
   "outputs": [],
   "source": [
    "### to load saved state_dict"
   ]
  },
  {
   "cell_type": "code",
   "execution_count": 30,
   "id": "c2f83841",
   "metadata": {},
   "outputs": [],
   "source": [
    "loaded_model_0 = LinearRegressionModel()\n",
    "\n",
    "# load the saved state_dict of model_0"
   ]
  },
  {
   "cell_type": "code",
   "execution_count": 31,
   "id": "cbdf297e",
   "metadata": {},
   "outputs": [
    {
     "data": {
      "text/plain": [
       "OrderedDict([('weights', tensor([0.1288])), ('bias', tensor([0.6009]))])"
      ]
     },
     "execution_count": 31,
     "metadata": {},
     "output_type": "execute_result"
    }
   ],
   "source": [
    "loaded_model_0.state_dict()"
   ]
  },
  {
   "cell_type": "code",
   "execution_count": 33,
   "id": "d27c17bd",
   "metadata": {},
   "outputs": [
    {
     "data": {
      "text/plain": [
       "<All keys matched successfully>"
      ]
     },
     "execution_count": 33,
     "metadata": {},
     "output_type": "execute_result"
    }
   ],
   "source": [
    "loaded_model_0.load_state_dict(torch.load(f=MODEL_SAVE_PATH))"
   ]
  },
  {
   "cell_type": "code",
   "execution_count": 34,
   "id": "9a8265c0",
   "metadata": {},
   "outputs": [
    {
     "data": {
      "text/plain": [
       "OrderedDict([('weights', tensor([0.3367])), ('bias', tensor([0.3904]))])"
      ]
     },
     "execution_count": 34,
     "metadata": {},
     "output_type": "execute_result"
    }
   ],
   "source": [
    "loaded_model_0.state_dict()"
   ]
  },
  {
   "cell_type": "code",
   "execution_count": 35,
   "id": "3097220f",
   "metadata": {},
   "outputs": [
    {
     "data": {
      "text/plain": [
       "tensor([[0.6598],\n",
       "        [0.6665],\n",
       "        [0.6733],\n",
       "        [0.6800],\n",
       "        [0.6867],\n",
       "        [0.6935],\n",
       "        [0.7002],\n",
       "        [0.7069],\n",
       "        [0.7137],\n",
       "        [0.7204]])"
      ]
     },
     "execution_count": 35,
     "metadata": {},
     "output_type": "execute_result"
    }
   ],
   "source": [
    "loaded_model_0.eval()\n",
    "with torch.inference_mode():\n",
    "    loaded_model_preds=loaded_model_0(X_test)\n",
    "loaded_model_preds"
   ]
  },
  {
   "cell_type": "code",
   "execution_count": 36,
   "id": "c5c85611",
   "metadata": {},
   "outputs": [
    {
     "data": {
      "text/plain": [
       "tensor([[True],\n",
       "        [True],\n",
       "        [True],\n",
       "        [True],\n",
       "        [True],\n",
       "        [True],\n",
       "        [True],\n",
       "        [True],\n",
       "        [True],\n",
       "        [True]])"
      ]
     },
     "execution_count": 36,
     "metadata": {},
     "output_type": "execute_result"
    }
   ],
   "source": [
    "# compare loaded model preds with original model preds\n",
    "\n",
    "y_preds==loaded_model_preds"
   ]
  },
  {
   "cell_type": "markdown",
   "id": "524455ff",
   "metadata": {},
   "source": [
    "### Recap: Putting it all together"
   ]
  },
  {
   "cell_type": "code",
   "execution_count": 42,
   "id": "fea6c7d3",
   "metadata": {},
   "outputs": [
    {
     "name": "stdout",
     "output_type": "stream",
     "text": [
      "Using device cpu\n"
     ]
    }
   ],
   "source": [
    "###### re do everything\n",
    "\n",
    "import torch\n",
    "from torch import nn\n",
    "from matplotlib import pyplot as plt\n",
    "\n",
    "torch.__version__\n",
    "\n",
    "# device agnostic\n",
    "device= 'cuda' if torch.cuda.is_available() else \"cpu\"\n",
    "print(f\"Using device {device}\")"
   ]
  },
  {
   "cell_type": "markdown",
   "id": "9901695a",
   "metadata": {},
   "source": [
    "#### 1. Data creation step"
   ]
  },
  {
   "cell_type": "code",
   "execution_count": 43,
   "id": "435f4a9a",
   "metadata": {},
   "outputs": [
    {
     "data": {
      "text/plain": [
       "(tensor([[0.0000],\n",
       "         [0.0200],\n",
       "         [0.0400],\n",
       "         [0.0600],\n",
       "         [0.0800],\n",
       "         [0.1000],\n",
       "         [0.1200],\n",
       "         [0.1400],\n",
       "         [0.1600],\n",
       "         [0.1800]]),\n",
       " tensor([[0.3000],\n",
       "         [0.3140],\n",
       "         [0.3280],\n",
       "         [0.3420],\n",
       "         [0.3560],\n",
       "         [0.3700],\n",
       "         [0.3840],\n",
       "         [0.3980],\n",
       "         [0.4120],\n",
       "         [0.4260]]))"
      ]
     },
     "execution_count": 43,
     "metadata": {},
     "output_type": "execute_result"
    }
   ],
   "source": [
    "# Create some data using the linear regression formula of y= weight*X + bias\n",
    "\n",
    "weight=0.7\n",
    "bias =0.3\n",
    "\n",
    "\n",
    "# create range values\n",
    "\n",
    "start=0\n",
    "end=1\n",
    "step=0.02\n",
    "\n",
    "# Create X and y (feature and labels)\n",
    "\n",
    "X=torch.arange(start,end,step).unsqueeze(dim=1)\n",
    "y=weight*X+ bias\n",
    "\n",
    "X[:10], y[:10]\n",
    "\n",
    "\n"
   ]
  },
  {
   "cell_type": "code",
   "execution_count": 46,
   "id": "1a4f1b8f",
   "metadata": {},
   "outputs": [
    {
     "data": {
      "text/plain": [
       "(40, 40, 10, 10)"
      ]
     },
     "execution_count": 46,
     "metadata": {},
     "output_type": "execute_result"
    }
   ],
   "source": [
    "# split the data\n",
    "train_split=int(0.8 * len(X))\n",
    "X_train, y_train=X[:train_split],y[:train_split]\n",
    "X_test, y_test= X[train_split:],y[train_split:]\n",
    "\n",
    "len(X_train), len(y_train), len(X_test), len(y_test)"
   ]
  },
  {
   "cell_type": "code",
   "execution_count": 48,
   "id": "b41afaf9",
   "metadata": {},
   "outputs": [],
   "source": [
    "def plot_predictions(train_data=X_train, \n",
    "                     train_labels=y_train, \n",
    "                     test_data=X_test, \n",
    "                     test_labels=y_test, \n",
    "                     predictions=None):\n",
    "    \"\"\"\n",
    "    Plots training data, test data and compares predictions.\n",
    "    \"\"\"\n",
    "    plt.figure(figsize=(10, 7))\n",
    "\n",
    "    # Plot training data in blue\n",
    "    plt.scatter(train_data, train_labels, c=\"b\", s=4, label=\"Training data\")\n",
    "\n",
    "    # Plot test data in green\n",
    "    plt.scatter(test_data, test_labels, c=\"g\", s=4, label=\"Testing data\")\n",
    "\n",
    "    if predictions is not None:\n",
    "        # Plot the predictions in red (predictions were made on the test data)\n",
    "        plt.scatter(test_data, predictions, c=\"r\", s=4, label=\"Predictions\")\n",
    "\n",
    "        # Show the legend\n",
    "        plt.legend(prop={\"size\": 14});\n"
   ]
  },
  {
   "cell_type": "code",
   "execution_count": 49,
   "id": "747bed03",
   "metadata": {},
   "outputs": [
    {
     "data": {
      "image/png": "[encoded data removed]",
      "text/plain": [
       "<Figure size 1000x700 with 1 Axes>"
      ]
     },
     "metadata": {},
     "output_type": "display_data"
    }
   ],
   "source": [
    "plot_predictions()"
   ]
  },
  {
   "cell_type": "markdown",
   "id": "c3af5e5d",
   "metadata": {},
   "source": [
    "#### 2 Bulilding a PyTorch Linear Model"
   ]
  },
  {
   "cell_type": "code",
   "execution_count": 52,
   "id": "17aec999",
   "metadata": {},
   "outputs": [
    {
     "data": {
      "text/plain": [
       "(LinearRegressionModelV2(\n",
       "   (linear_layer): Linear(in_features=1, out_features=1, bias=True)\n",
       " ),\n",
       " OrderedDict([('linear_layer.weight', tensor([[0.7645]])),\n",
       "              ('linear_layer.bias', tensor([0.8300]))]))"
      ]
     },
     "execution_count": 52,
     "metadata": {},
     "output_type": "execute_result"
    }
   ],
   "source": [
    "# create a linear model by subclassing nn.Module\n",
    "\n",
    "class LinearRegressionModelV2(nn.Module):\n",
    "    def __init__(self):\n",
    "        super().__init__()\n",
    "        # Use nn.Linear() for creating the model parameters\n",
    "        self.linear_layer=nn.Linear(in_features=1,\n",
    "                                    out_features=1)\n",
    "        \n",
    "    def forward(self, x: torch.Tensor) -> torch.Tensor:\n",
    "        return self.linear_layer(x)\n",
    "\n",
    "    \n",
    "# set the manual seed\n",
    "torch.manual_seed(42)\n",
    "model_1=LinearRegressionModelV2()\n",
    "model_1,model_1.state_dict()"
   ]
  },
  {
   "cell_type": "markdown",
   "id": "a39802e6",
   "metadata": {},
   "source": [
    "#### 3 Training the model \n",
    "For training we need:\n",
    "* Loss function\n",
    "* Optimizer\n",
    "* Training loop\n",
    "* Testing loop"
   ]
  },
  {
   "cell_type": "code",
   "execution_count": 53,
   "id": "9f2bef43",
   "metadata": {},
   "outputs": [
    {
     "data": {
      "text/plain": [
       "device(type='cpu')"
      ]
     },
     "execution_count": 53,
     "metadata": {},
     "output_type": "execute_result"
    }
   ],
   "source": [
    "# check parameter of the current device\n",
    "next(model_1.parameters()).device"
   ]
  },
  {
   "cell_type": "code",
   "execution_count": 56,
   "id": "b9ced621",
   "metadata": {},
   "outputs": [],
   "source": [
    "# set the model to use the target device\n",
    "# model_1.to(device)\n",
    "# next(model_1.paramters()).device"
   ]
  },
  {
   "cell_type": "code",
   "execution_count": 59,
   "id": "3916ff3f",
   "metadata": {},
   "outputs": [],
   "source": [
    "# setup loss function\n",
    "loss_fn=nn.L1Loss() # same as MAE\n",
    "\n",
    "# Setup our optimizer\n",
    "optimizer=torch.optim.SGD(params=model_1.parameters(),\n",
    "                          lr=0.01)\n"
   ]
  },
  {
   "cell_type": "code",
   "execution_count": 63,
   "id": "2d8f52e0",
   "metadata": {},
   "outputs": [
    {
     "name": "stdout",
     "output_type": "stream",
     "text": [
      "Epoch: 0 | Loss: 0.5551779866218567 | test_loss: 0.5739762187004089\n",
      "Epoch: 10 | Loss: 0.4399680495262146 | test_loss: 0.4392663538455963\n",
      "Epoch: 20 | Loss: 0.3247582018375397 | test_loss: 0.30455657839775085\n",
      "Epoch: 30 | Loss: 0.20954827964305878 | test_loss: 0.16984674334526062\n",
      "Epoch: 40 | Loss: 0.09433844685554504 | test_loss: 0.03513689711689949\n",
      "Epoch: 50 | Loss: 0.023886386305093765 | test_loss: 0.04784906655550003\n",
      "Epoch: 60 | Loss: 0.0199567973613739 | test_loss: 0.04580312222242355\n",
      "Epoch: 70 | Loss: 0.016517987474799156 | test_loss: 0.0375305712223053\n",
      "Epoch: 80 | Loss: 0.013089170679450035 | test_loss: 0.029944902285933495\n",
      "Epoch: 90 | Loss: 0.009653178043663502 | test_loss: 0.02167237363755703\n",
      "Epoch: 100 | Loss: 0.006215679459273815 | test_loss: 0.014086711220443249\n",
      "Epoch: 110 | Loss: 0.002787243574857712 | test_loss: 0.005814164876937866\n",
      "Epoch: 120 | Loss: 0.0012645035749301314 | test_loss: 0.013801807537674904\n",
      "Epoch: 130 | Loss: 0.0012645035749301314 | test_loss: 0.013801807537674904\n",
      "Epoch: 140 | Loss: 0.0012645035749301314 | test_loss: 0.013801807537674904\n",
      "Epoch: 150 | Loss: 0.0012645035749301314 | test_loss: 0.013801807537674904\n",
      "Epoch: 160 | Loss: 0.0012645035749301314 | test_loss: 0.013801807537674904\n",
      "Epoch: 170 | Loss: 0.0012645035749301314 | test_loss: 0.013801807537674904\n",
      "Epoch: 180 | Loss: 0.0012645035749301314 | test_loss: 0.013801807537674904\n",
      "Epoch: 190 | Loss: 0.0012645035749301314 | test_loss: 0.013801807537674904\n"
     ]
    }
   ],
   "source": [
    "# let's write a training loop\n",
    "torch.manual_seed(42)\n",
    "\n",
    "\n",
    "\n",
    "epochs=200\n",
    "\n",
    "for epoch in range(epochs):\n",
    "    model_1.train()\n",
    "    \n",
    "    # 1. Forward pass\n",
    "    y_pred=model_1(X_train)\n",
    "    \n",
    "    # 2. Calculate the loss\n",
    "    loss=loss_fn(y_pred,y_train)\n",
    "    \n",
    "    # 3. optimizer zero grad\n",
    "    optimizer.zero_grad() # reduce the grad back to 0 so that we start fresh after epoch?\n",
    "    \n",
    "    # 4. perform backpropagation\n",
    "    loss.backward()\n",
    "    \n",
    "    # 5. Optimizer step\n",
    "    optimizer.step() # which way should i optimize the parameters ie adjust bias or weight to reduce the loss\n",
    "    \n",
    "    ### Testing\n",
    "    \n",
    "    model_1.eval()\n",
    "    with torch.inference_mode():\n",
    "        test_pred=model_1(X_test)\n",
    "        test_loss=loss_fn(test_pred, y_test)\n",
    "    \n",
    "    # printing what is happening \n",
    "    \n",
    "    \n",
    "    if epoch %10==0:\n",
    "        print(f\"Epoch: {epoch} | Loss: {loss} | test_loss: {test_loss}\")\n",
    "        \n"
   ]
  },
  {
   "cell_type": "code",
   "execution_count": 64,
   "id": "aa39f5aa",
   "metadata": {},
   "outputs": [
    {
     "data": {
      "text/plain": [
       "OrderedDict([('linear_layer.weight', tensor([[0.6968]])),\n",
       "             ('linear_layer.bias', tensor([0.3025]))])"
      ]
     },
     "execution_count": 64,
     "metadata": {},
     "output_type": "execute_result"
    }
   ],
   "source": [
    "model_1.state_dict()"
   ]
  },
  {
   "cell_type": "code",
   "execution_count": 65,
   "id": "235d30af",
   "metadata": {},
   "outputs": [
    {
     "name": "stdout",
     "output_type": "stream",
     "text": [
      "The model learned the following values for weights and bias:\n",
      "OrderedDict([('linear_layer.weight', tensor([[0.6968]])),\n",
      "             ('linear_layer.bias', tensor([0.3025]))])\n",
      "\n",
      "And the original values for weights and bias are:\n",
      "weights: 0.7, bias: 0.3\n"
     ]
    }
   ],
   "source": [
    "# Find our model's learned parameters\n",
    "from pprint import pprint # pprint = pretty print, see: https://docs.python.org/3/library/pprint.html \n",
    "print(\"The model learned the following values for weights and bias:\")\n",
    "pprint(model_1.state_dict())\n",
    "print(\"\\nAnd the original values for weights and bias are:\")\n",
    "print(f\"weights: {weight}, bias: {bias}\")"
   ]
  },
  {
   "cell_type": "code",
   "execution_count": 66,
   "id": "74f0b682",
   "metadata": {},
   "outputs": [
    {
     "data": {
      "text/plain": [
       "tensor([[0.8600],\n",
       "        [0.8739],\n",
       "        [0.8878],\n",
       "        [0.9018],\n",
       "        [0.9157],\n",
       "        [0.9296],\n",
       "        [0.9436],\n",
       "        [0.9575],\n",
       "        [0.9714],\n",
       "        [0.9854]])"
      ]
     },
     "execution_count": 66,
     "metadata": {},
     "output_type": "execute_result"
    }
   ],
   "source": [
    "# Turn model into evaluation mode\n",
    "model_1.eval()\n",
    "\n",
    "# Make predictions on the test data\n",
    "with torch.inference_mode():\n",
    "    y_preds = model_1(X_test)\n",
    "y_preds"
   ]
  },
  {
   "cell_type": "code",
   "execution_count": 67,
   "id": "43b4812b",
   "metadata": {},
   "outputs": [
    {
     "data": {
      "image/png": "[encoded data removed]",
      "text/plain": [
       "<Figure size 1000x700 with 1 Axes>"
      ]
     },
     "metadata": {},
     "output_type": "display_data"
    }
   ],
   "source": [
    "\n",
    "# plot_predictions(predictions=y_preds) # -> won't work... data not on CPU\n",
    "\n",
    "# Put data on the CPU and plot it\n",
    "plot_predictions(predictions=y_preds.cpu())"
   ]
  },
  {
   "cell_type": "code",
   "execution_count": null,
   "id": "b59d2d35",
   "metadata": {},
   "outputs": [],
   "source": []
  }
 ],
 "metadata": {
  "kernelspec": {
   "display_name": "Python 3 (ipykernel)",
   "language": "python",
   "name": "python3"
  },
  "language_info": {
   "codemirror_mode": {
    "name": "ipython",
    "version": 3
   },
   "file_extension": ".py",
   "mimetype": "text/x-python",
   "name": "python",
   "nbconvert_exporter": "python",
   "pygments_lexer": "ipython3",
   "version": "3.10.8"
  }
 },
 "nbformat": 4,
 "nbformat_minor": 5
}
