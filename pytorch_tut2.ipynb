{
 "cells": [
  {
   "cell_type": "markdown",
   "id": "077a101c",
   "metadata": {},
   "source": [
    "# pytorch workflow"
   ]
  },
  {
   "cell_type": "code",
   "execution_count": 3,
   "id": "bbfab387",
   "metadata": {},
   "outputs": [],
   "source": [
    "import torch\n",
    "from torch import nn\n",
    "from matplotlib import pyplot as plt"
   ]
  },
  {
   "cell_type": "code",
   "execution_count": 4,
   "id": "0b7b6fc1",
   "metadata": {},
   "outputs": [],
   "source": [
    "# data-> numerical encoding-> learns representation (pattern features weights) -> output"
   ]
  },
  {
   "cell_type": "markdown",
   "id": "523d9e77",
   "metadata": {},
   "source": [
    "## linear regression"
   ]
  },
  {
   "cell_type": "code",
   "execution_count": 10,
   "id": "73367009",
   "metadata": {},
   "outputs": [],
   "source": [
    "# create known parameters\n",
    "weight=0.7\n",
    "bias=0.3\n",
    "\n",
    "# create dataset\n",
    "start=0\n",
    "end=1\n",
    "step=0.02\n",
    "X=torch.arange(start,end,step).unsqueeze(dim=1)\n",
    "y=weight*X +bias\n",
    "\n",
    "# X,y"
   ]
  },
  {
   "cell_type": "code",
   "execution_count": 24,
   "id": "a3c56bcb",
   "metadata": {},
   "outputs": [],
   "source": [
    "tensor = torch.tensor([1, 2, 3, 4, 5])\n",
    "tensor2= torch.arange(1,6,1).unsqueeze(dim=1)"
   ]
  },
  {
   "cell_type": "code",
   "execution_count": 25,
   "id": "37286d83",
   "metadata": {},
   "outputs": [
    {
     "name": "stdout",
     "output_type": "stream",
     "text": [
      "torch.Size([5]) torch.Size([5, 1])\n",
      "torch.Size([5]) torch.Size([5, 1])\n",
      "tensor([1, 2, 3, 4, 5])\n",
      "tensor([[1],\n",
      "        [2],\n",
      "        [3],\n",
      "        [4],\n",
      "        [5]])\n",
      "tensor([[10],\n",
      "        [20],\n",
      "        [30],\n",
      "        [40],\n",
      "        [50]])\n"
     ]
    }
   ],
   "source": [
    "print(tensor.shape,tensor2.shape)\n",
    "print(tensor.size(),tensor2.size())\n",
    "print(tensor)\n",
    "print(tensor2)\n",
    "print(tensor2*10)"
   ]
  },
  {
   "cell_type": "code",
   "execution_count": 26,
   "id": "7dd4d212",
   "metadata": {},
   "outputs": [
    {
     "data": {
      "text/plain": [
       "(40, 40, 10, 10)"
      ]
     },
     "execution_count": 26,
     "metadata": {},
     "output_type": "execute_result"
    }
   ],
   "source": [
    "# Create train/test split\n",
    "train_split = int(0.8 * len(X)) # 80% of data used for training set, 20% for testing \n",
    "X_train, y_train = X[:train_split], y[:train_split]\n",
    "X_test, y_test = X[train_split:], y[train_split:]\n",
    "\n",
    "len(X_train), len(y_train), len(X_test), len(y_test)# create train/test split"
   ]
  },
  {
   "cell_type": "code",
   "execution_count": 27,
   "id": "46b2acd8",
   "metadata": {},
   "outputs": [],
   "source": [
    "def plot_predictions(train_data=X_train, \n",
    "                     train_labels=y_train, \n",
    "                     test_data=X_test, \n",
    "                     test_labels=y_test, \n",
    "                     predictions=None):\n",
    "  \"\"\"\n",
    "  Plots training data, test data and compares predictions.\n",
    "  \"\"\"\n",
    "  plt.figure(figsize=(10, 7))\n",
    "\n",
    "  # Plot training data in blue\n",
    "  plt.scatter(train_data, train_labels, c=\"b\", s=4, label=\"Training data\")\n",
    "  \n",
    "  # Plot test data in green\n",
    "  plt.scatter(test_data, test_labels, c=\"g\", s=4, label=\"Testing data\")\n",
    "\n",
    "  if predictions is not None:\n",
    "    # Plot the predictions in red (predictions were made on the test data)\n",
    "    plt.scatter(test_data, predictions, c=\"r\", s=4, label=\"Predictions\")\n",
    "\n",
    "  # Show the legend\n",
    "  plt.legend(prop={\"size\": 14});\n"
   ]
  },
  {
   "cell_type": "code",
   "execution_count": 28,
   "id": "c2993bcd",
   "metadata": {},
   "outputs": [
    {
     "data": {
      "image/png": "[encoded data removed]",
      "text/plain": [
       "<Figure size 720x504 with 1 Axes>"
      ]
     },
     "metadata": {
      "needs_background": "light"
     },
     "output_type": "display_data"
    }
   ],
   "source": [
    "plot_predictions();"
   ]
  },
  {
   "cell_type": "markdown",
   "id": "6babb0be",
   "metadata": {},
   "source": [
    "### first pytorch model"
   ]
  },
  {
   "cell_type": "code",
   "execution_count": 46,
   "id": "5d5001f0",
   "metadata": {},
   "outputs": [],
   "source": [
    "class LinearRegressionModel(nn.Module):\n",
    "    def __init__(self):\n",
    "        super().__init__()\n",
    "        self.weights=nn.Parameter(torch.randn(1,requires_grad=True,dtype=torch.float))\n",
    "        self.bias=nn.Parameter(torch.rand(1,requires_grad=True, dtype=torch.float))\n",
    "        \n",
    "    def forward(self,x:torch.Tensor)->torch.Tensor: # <--\"x\" is the input\n",
    "        return self.weights*x +self.bias"
   ]
  },
  {
   "cell_type": "code",
   "execution_count": 30,
   "id": "32db8580",
   "metadata": {},
   "outputs": [],
   "source": [
    "## check inside of the model"
   ]
  },
  {
   "cell_type": "code",
   "execution_count": 47,
   "id": "656faa49",
   "metadata": {},
   "outputs": [],
   "source": [
    "# create random seed\n",
    "torch.manual_seed(42)\n",
    "\n",
    "# create ad instance of the model \n",
    "model_0=LinearRegressionModel()"
   ]
  },
  {
   "cell_type": "code",
   "execution_count": 48,
   "id": "fc9b6ecb",
   "metadata": {},
   "outputs": [
    {
     "data": {
      "text/plain": [
       "OrderedDict([('weights', tensor([0.3367])), ('bias', tensor([0.3904]))])"
      ]
     },
     "execution_count": 48,
     "metadata": {},
     "output_type": "execute_result"
    }
   ],
   "source": [
    "list(model_0.parameters())\n",
    "model_0.state_dict()"
   ]
  },
  {
   "cell_type": "code",
   "execution_count": 49,
   "id": "99dcc6ae",
   "metadata": {},
   "outputs": [
    {
     "data": {
      "text/plain": [
       "tensor([[0.6598],\n",
       "        [0.6665],\n",
       "        [0.6733],\n",
       "        [0.6800],\n",
       "        [0.6867],\n",
       "        [0.6935],\n",
       "        [0.7002],\n",
       "        [0.7069],\n",
       "        [0.7137],\n",
       "        [0.7204]])"
      ]
     },
     "execution_count": 49,
     "metadata": {},
     "output_type": "execute_result"
    }
   ],
   "source": [
    "#### making prediction using 'torch.inference_mode() does not keep track of gradient-> much faster'\n",
    "with torch.inference_mode():\n",
    "    y_preds=model_0(X_test)\n",
    "\n",
    "y_preds\n",
    "\n"
   ]
  },
  {
   "cell_type": "code",
   "execution_count": 50,
   "id": "c9601d2c",
   "metadata": {},
   "outputs": [
    {
     "data": {
      "image/png": "[encoded data removed]",
      "text/plain": [
       "<Figure size 720x504 with 1 Axes>"
      ]
     },
     "metadata": {
      "needs_background": "light"
     },
     "output_type": "display_data"
    }
   ],
   "source": [
    "plot_predictions(predictions=y_preds);"
   ]
  },
  {
   "cell_type": "code",
   "execution_count": 54,
   "id": "6700593a",
   "metadata": {},
   "outputs": [],
   "source": [
    "loss_fn=nn.L1Loss()\n",
    "    \n",
    "    \n",
    "optimizer=torch.optim.SGD(params=model_0.parameters(),lr=0.01)# learning rate improtant hyperparameter    \n"
   ]
  },
  {
   "cell_type": "code",
   "execution_count": 73,
   "id": "e1602830",
   "metadata": {},
   "outputs": [
    {
     "name": "stdout",
     "output_type": "stream",
     "text": [
      "loss 0.06808149069547653\n",
      "parameters values \n",
      " OrderedDict([('weights', tensor([0.3647])), ('bias', tensor([0.4139]))])\n"
     ]
    }
   ],
   "source": [
    "# An epoch is one loop through the data... (this is a hyperparameter because we have set it)\n",
    "\n",
    "epochs=1\n",
    "\n",
    "# 0 loop through the data\n",
    "for epoch in range(epochs):\n",
    "    \n",
    "    # set the model to trining mode\n",
    "    \n",
    "    model_0.train() # train mode in pytorch\n",
    "    \n",
    "    \n",
    "    # 1. Forward pass\n",
    "    y_pred=model_0(X_train)\n",
    "    # 2. Calculate the loss\n",
    "    loss=loss_fn(y_pred,y_train)\n",
    "    print(f\"loss {loss}\")\n",
    "    print(f\"parameters values \\n {model_0.state_dict()}\")\n",
    "    # 3. Optimizer zero grad\n",
    "    optimizer.zero_grad()\n",
    "    \n",
    "    # 4. Perform backpropagation on the loss with respect to the parameters of the model\n",
    "    \n",
    "    loss.backward()\n",
    "    \n",
    "    # 5. Step the optimizer (perform gradient descent)\n",
    "    \n",
    "    optimizer.step()\n",
    "    \n",
    "    \n",
    "    \n",
    "    model_0.eval() # turn off fradient tracking\n"
   ]
  },
  {
   "cell_type": "code",
   "execution_count": 74,
   "id": "cf62c2c6",
   "metadata": {},
   "outputs": [
    {
     "name": "stdout",
     "output_type": "stream",
     "text": [
      "parameters values \n",
      "OrderedDict([('weights', tensor([0.3672])), ('bias', tensor([0.4154]))])\n"
     ]
    },
    {
     "data": {
      "image/png": "[encoded data removed]",
      "text/plain": [
       "<Figure size 720x504 with 1 Axes>"
      ]
     },
     "metadata": {
      "needs_background": "light"
     },
     "output_type": "display_data"
    }
   ],
   "source": [
    "with torch.inference_mode():\n",
    "    y_preds_new=model_0(X_test)\n",
    "\n",
    " \n",
    "print(f\"parameters values \\n{model_0.state_dict()}\")\n",
    "    \n",
    "plot_predictions(predictions=y_preds)"
   ]
  },
  {
   "cell_type": "code",
   "execution_count": 64,
   "id": "a1ae33e2",
   "metadata": {},
   "outputs": [
    {
     "name": "stdout",
     "output_type": "stream",
     "text": [
      "parameters values \n",
      " OrderedDict([('weights', tensor([0.3569])), ('bias', tensor([0.4089]))])\n"
     ]
    }
   ],
   "source": []
  },
  {
   "cell_type": "code",
   "execution_count": 68,
   "id": "9f2f216c",
   "metadata": {},
   "outputs": [
    {
     "data": {
      "image/png": "[encoded data removed]",
      "text/plain": [
       "<Figure size 720x504 with 1 Axes>"
      ]
     },
     "metadata": {
      "needs_background": "light"
     },
     "output_type": "display_data"
    }
   ],
   "source": []
  },
  {
   "cell_type": "code",
   "execution_count": null,
   "id": "0b4c2b9a",
   "metadata": {},
   "outputs": [],
   "source": []
  }
 ],
 "metadata": {
  "kernelspec": {
   "display_name": "Python 3",
   "language": "python",
   "name": "python3"
  },
  "language_info": {
   "codemirror_mode": {
    "name": "ipython",
    "version": 3
   },
   "file_extension": ".py",
   "mimetype": "text/x-python",
   "name": "python",
   "nbconvert_exporter": "python",
   "pygments_lexer": "ipython3",
   "version": "3.8.10"
  }
 },
 "nbformat": 4,
 "nbformat_minor": 5
}
