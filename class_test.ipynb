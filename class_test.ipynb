{
 "cells": [
  {
   "cell_type": "code",
   "execution_count": 8,
   "id": "8b50c927",
   "metadata": {},
   "outputs": [
    {
     "name": "stdout",
     "output_type": "stream",
     "text": [
      "bark\n",
      "6\n",
      "bark\n",
      "7\n",
      "21 moly\n",
      "19 tim\n",
      "21 moly\n",
      "34 tim\n"
     ]
    }
   ],
   "source": [
    "# Objected Oriented Programming \n",
    "# Class test from Tech with Tim follow up\n",
    "\n",
    "# Part 1: The Basics\n",
    "\n",
    "class Dog:\n",
    "    def __init__(self,name,age): # whenver class is defined, whatever value gets passes  goes through __init__ method\n",
    "        self.name=name\n",
    "        self.age=age\n",
    "#         print(name)\n",
    "    \n",
    "    def add_one(self, x):\n",
    "        return x+1\n",
    "    def bark(self):\n",
    "        print(\"bark\")\n",
    "    def get_name(self):\n",
    "        return self.name\n",
    "    \n",
    "    def get_age(self):\n",
    "        return self.age\n",
    "    def set_age(self,age):\n",
    "        self.age=age\n",
    "        \n",
    "\n",
    "d0=Dog(\"tim\",19)\n",
    "d0.bark()\n",
    "print(d0.add_one(5))\n",
    "\n",
    "d1=Dog(\"moly\",21)\n",
    "d1.bark()\n",
    "print(d1.add_one(6))\n",
    "\n",
    "print(d1.get_age(), d1.get_name())\n",
    "print(d0.get_age(), d0.get_name())\n",
    "d0.set_age(34)\n",
    "print(d1.get_age(), d1.get_name())\n",
    "print(d0.get_age(), d0.get_name())\n"
   ]
  },
  {
   "cell_type": "code",
   "execution_count": 9,
   "id": "104cf0e6",
   "metadata": {},
   "outputs": [],
   "source": [
    "#### Part 2: Multiple Classes"
   ]
  },
  {
   "cell_type": "code",
   "execution_count": 18,
   "id": "9346583f",
   "metadata": {},
   "outputs": [
    {
     "name": "stdout",
     "output_type": "stream",
     "text": [
      "tim\n",
      "85.0\n"
     ]
    }
   ],
   "source": [
    "class Student:\n",
    "    def __init__(self, name, age, grade):\n",
    "        self.name=name\n",
    "        self.age=age\n",
    "        self.grade=grade\n",
    "    def get_grade(self):\n",
    "        return self.grade\n",
    "\n",
    "class Course:\n",
    "    def __init__(self,name,max_students):\n",
    "        self.name=name\n",
    "        self.max_students=max_students\n",
    "        self.students=[]\n",
    "    \n",
    "    def add_students(self,student):\n",
    "        if len(self.students) < self.max_students:\n",
    "            self.students.append(student)\n",
    "            return True\n",
    "        return False\n",
    "    def get_average_grade(self):\n",
    "        value=0\n",
    "        for student in self.students:\n",
    "            value+=student.get_grade()\n",
    "        return value/len(self.students)\n",
    "    \n",
    "s1=Student(\"tim\",19,95)\n",
    "s2=Student(\"bill\",18,75)\n",
    "s3=Student(\"jill\",20,65)\n",
    "       \n",
    "course=Course(\"science\",2)\n",
    "course.add_students(s1)\n",
    "course.add_students(s2)\n",
    "\n",
    "print(course.students[0].name)\n",
    "print(course.get_average_grade())"
   ]
  },
  {
   "cell_type": "code",
   "execution_count": 19,
   "id": "e3198a94",
   "metadata": {},
   "outputs": [],
   "source": [
    "#### Part 3: Inheretence "
   ]
  },
  {
   "cell_type": "code",
   "execution_count": 25,
   "id": "fee64373",
   "metadata": {},
   "outputs": [
    {
     "name": "stdout",
     "output_type": "stream",
     "text": [
      "I am tim and i am 19 years old\n",
      "I am Bill and i am 34 years old and i am magenta\n",
      "I am jill and i am 35 years old\n",
      "bark\n",
      "meow\n",
      "I am a human so Blaaahh\n"
     ]
    }
   ],
   "source": [
    "class Pet:\n",
    "    def __init__(self,name,age):\n",
    "        self.name=name\n",
    "        self.age=age\n",
    "        \n",
    "    def show(self):\n",
    "        print(f\"I am {self.name} and i am {self.age} years old\")\n",
    "    def speak(self):\n",
    "        print(\"I am a human so Blaaahh\")\n",
    "\n",
    "class Dog(Pet):\n",
    "\n",
    "    def speak(self):\n",
    "        print(\"bark\")\n",
    "\n",
    "\n",
    "class Cat(Pet):\n",
    "    def __init__(self,name,age,color):\n",
    "        super().__init__(name, age)\n",
    "        self.color=color\n",
    "\n",
    "    def speak(self):\n",
    "        print(\"meow\")\n",
    "    def show(self):\n",
    "        print(f\"I am {self.name} and i am {self.age} years old and i am {self.color}\")\n",
    "\n",
    "p=Pet(\"tim\",19)\n",
    "p.show()\n",
    "c=Cat(\"Bill\",34,\"magenta\") #- inherit from pet class Cat and Dog are child class of parent class Pet\n",
    "                 #- override same name funciton of the parent class\n",
    "c.show()\n",
    "d=Dog(\"jill\",35)\n",
    "d.show()\n",
    "\n",
    "d.speak()\n",
    "c.speak()\n",
    "p.speak()"
   ]
  },
  {
   "cell_type": "code",
   "execution_count": 32,
   "id": "f6e9d26d",
   "metadata": {},
   "outputs": [
    {
     "name": "stdout",
     "output_type": "stream",
     "text": [
      "2\n"
     ]
    }
   ],
   "source": [
    "### part 4: Class Atributes\n",
    "# class attributes are specific to class and not to instance of class\n",
    "# class method\n",
    "class Person:\n",
    "    number_of_people=0 # example of class atribute\n",
    "    \n",
    "    def __init__(self,name):\n",
    "        self.name=name\n",
    "        Person.add_person()\n",
    "#         Person.number_of_people += 1\n",
    "    @classmethod  ## decorator for class method\n",
    "    def number_of_people_(cls): ## Example of class method\n",
    "        return cls.number_of_people\n",
    "    \n",
    "    @classmethod \n",
    "    def add_person(cls): ## Example of class method\n",
    "        cls.number_of_people+=1\n",
    "    \n",
    "    \n",
    "p1=Person(\"tim\")\n",
    "p2=Person(\"Jim\")\n",
    "print(Person.number_of_people_())"
   ]
  },
  {
   "cell_type": "code",
   "execution_count": 33,
   "id": "af0a7f42",
   "metadata": {},
   "outputs": [],
   "source": [
    "### when to use class --> good way to organize functions"
   ]
  },
  {
   "cell_type": "code",
   "execution_count": 34,
   "id": "d6cc2710",
   "metadata": {},
   "outputs": [
    {
     "name": "stdout",
     "output_type": "stream",
     "text": [
      "11\n"
     ]
    }
   ],
   "source": [
    "class Math:\n",
    "    \n",
    "    @staticmethod\n",
    "    def add5(x):\n",
    "        return x+5\n",
    "    \n",
    "print(Math.add5(6))\n",
    "        "
   ]
  },
  {
   "cell_type": "code",
   "execution_count": null,
   "id": "0370c313",
   "metadata": {},
   "outputs": [],
   "source": []
  }
 ],
 "metadata": {
  "kernelspec": {
   "display_name": "Python 3 (ipykernel)",
   "language": "python",
   "name": "python3"
  },
  "language_info": {
   "codemirror_mode": {
    "name": "ipython",
    "version": 3
   },
   "file_extension": ".py",
   "mimetype": "text/x-python",
   "name": "python",
   "nbconvert_exporter": "python",
   "pygments_lexer": "ipython3",
   "version": "3.10.8"
  }
 },
 "nbformat": 4,
 "nbformat_minor": 5
}
